{
 "cells": [
  {
   "cell_type": "markdown",
   "metadata": {},
   "source": [
    "\n",
    "# LU felbontás\n",
    "\n",
    "\n",
    "\n",
    "\n",
    "### Zs.Nagy Norbert, Pápai Tamás\n",
    "\n",
    "Az LU felbontás egy olyan mátrixfelbontás, amely egy mátrixot egy alsó- és egy felső háromszögmátrix szorzatára bontja. Ezt a felbontást a numerikus analízis során lineáris egyenletrendszerek megoldásra és determináns számolására használhatjuk.\n",
    "\n",
    "Legyen A egy kvadratikus mátrix, amelyre az LU felbontás a következő alakú:\n",
    "\n",
    " $$A=LU$$\n",
    " \n",
    " ahol L és U alsó és felső trianguláris mátrixok (azonos méretűek)\n",
    " \n",
    " \n",
    " Ez egy 3x3 -as mátrixra így néz ki:\n",
    " \n",
    "\\begin{gather}\n",
    " \\begin{pmatrix}\n",
    "  a_{11} & a_{12} & a_{13} \\\\\n",
    "  a_{21} & a_{22} & a_{23} \\\\\n",
    "  a_{31} & a_{32} & a_{33}\n",
    " \\end{pmatrix}\n",
    " =\\begin{pmatrix}\n",
    "  l_{11} & 0 & 0 \\\\\n",
    "  l_{21} & l_{22} & 0 \\\\\n",
    "  l_{31} & l_{32} & l_{33}\n",
    " \\end{pmatrix}\n",
    " \\begin{pmatrix}\n",
    "  u_{11} & u_{12} & u_{13} \\\\\n",
    "  0 & u_{22} & u_{23} \\\\\n",
    "  0 & 0 & u_{33}\n",
    " \\end{pmatrix}\n",
    "\\end{gather}\n",
    "\n",
    "\n",
    "#### Példa\n",
    "\n",
    "Nézzük a következő 2x2-es mátrixot\n",
    "\n",
    " \\begin{pmatrix}\n",
    "  4 & 3  \\\\\n",
    "  6 & 3 \\\\\n",
    " \\end{pmatrix}\n",
    " \n",
    " A mátrix LU felbontása az alábbi alakot kell felvegye:\n",
    " \n",
    " \\begin{gather}\n",
    "  \\begin{pmatrix}\n",
    "  4 & 3  \\\\\n",
    "  6 & 3 \\\\\n",
    " \\end{pmatrix}\n",
    " =\n",
    " \\begin{pmatrix}\n",
    "  l_{11} & 0  \\\\\n",
    "  l_{21} & l_{22} \\\\\n",
    " \\end{pmatrix}\n",
    " \\begin{pmatrix}\n",
    "  u_{11} & u_{12}  \\\\\n",
    "  0 & u_{22} \\\\\n",
    " \\end{pmatrix}\n",
    " \\end{gather}\n",
    " \n",
    " A mátrix LU felbontását megkaphatjuk, ha megoldjuk a lineáris egyenletrendszert:\n",
    " \n",
    " $$l_{11}u_{11}+0=4$$\n",
    "  $$l_{11}u_{12}+0=3$$\n",
    "   $$l_{21}u_{11}+0=6$$\n",
    "    $$l_{21}u_{12}+l_{22}u_{22}=3$$\n",
    "    \n",
    "    \n",
    "Ez a rendszer nem egyértelműen meghatározott. L és U mátrixok nem nulla elemei csak paraméterei a megoldásnak, tetszőleges más nem nulla elemre módosíthatók. Annak érdekében, hogy meghatározhassunk egy egyértelmű LU felbontást, néhány megkötést kell tennünk. Tegyük fel, hogy az alsó trianguláris mátrix főátlójának minden eleme egy. Ebben az esetben az egyenletrendszer megoldása a következő:\n",
    "\n",
    "$$l_{21}=1.5$$\n",
    "$$u_{11}=4$$\n",
    "$$u_{12}=3$$\n",
    "$$u_{22}=-1.5$$\n",
    "\n",
    "Vagyis a mátrix LU felbontása:\n",
    "\n",
    " \\begin{gather}\n",
    "  \\begin{pmatrix}\n",
    "  4 & 3  \\\\\n",
    "  6 & 3 \\\\\n",
    " \\end{pmatrix}\n",
    " =\n",
    " \\begin{pmatrix}\n",
    "  1 & 0  \\\\\n",
    "  1.5 & 1 \\\\\n",
    " \\end{pmatrix}\n",
    " \\begin{pmatrix}\n",
    "  4 & 3  \\\\\n",
    "  0 & -1.5 \\\\\n",
    " \\end{pmatrix}\n",
    " \\end{gather}\n",
    " \n",
    " \n",
    " Másik lehetséges módszer az ún. pivotizálás.\n",
    " Részleges pivotizálás esetén a felbontás az\n",
    "  $$PA=LU$$\n",
    "  alakot veszi fel, teljes pivotizálás esetén pedig:\n",
    "  \n",
    "\n",
    "  \n",
    "  \n",
    "  $$PAQ=LU$$\n",
    "  \n",
    "  \n",
    "ahol P és Q permutáló mátrixok, míg P az A mátrix sorait, Q az oszlopait rendezi át.\n",
    " \n",
    " \n",
    "\n",
    " \n",
    " ## Kivitelezés\n",
    " \n",
    " Végezzük el az alábbi 4x4-es mátrix LU felbontását"
   ]
  },
  {
   "cell_type": "code",
   "execution_count": 49,
   "metadata": {},
   "outputs": [
    {
     "name": "stdout",
     "output_type": "stream",
     "text": [
      "array([[ 1,  7, -3,  4],\n",
      "       [-3,  7,  1, -4],\n",
      "       [-5,  9,  2, -1],\n",
      "       [ 3, -5,  2, -6]])\n"
     ]
    }
   ],
   "source": [
    "import pprint\n",
    "import scipy\n",
    "import scipy.linalg\n",
    "\n",
    "A = scipy.array([ [1, 7, -3, 4], [-3, 7, 1, -4], [-5, 9, 2, -1], [3, -5, 2, -6] ])\n",
    "\n",
    "pprint.pprint(A)\n",
    "\n",
    "P, L, U = scipy.linalg.lu(A)"
   ]
  },
  {
   "cell_type": "markdown",
   "metadata": {},
   "source": [
    "Az A mátrix LU felbontása:"
   ]
  },
  {
   "cell_type": "code",
   "execution_count": 50,
   "metadata": {},
   "outputs": [
    {
     "name": "stdout",
     "output_type": "stream",
     "text": [
      "array([[ 1.        ,  0.        ,  0.        ,  0.        ],\n",
      "       [-0.2       ,  1.        ,  0.        ,  0.        ],\n",
      "       [-0.6       ,  0.04545455,  1.        ,  0.        ],\n",
      "       [ 0.6       ,  0.18181818,  0.08219178,  1.        ]])\n"
     ]
    }
   ],
   "source": [
    "pprint.pprint(L)"
   ]
  },
  {
   "cell_type": "code",
   "execution_count": 51,
   "metadata": {},
   "outputs": [
    {
     "name": "stdout",
     "output_type": "stream",
     "text": [
      "array([[-5.        ,  9.        ,  2.        , -1.        ],\n",
      "       [ 0.        ,  8.8       , -2.6       ,  3.8       ],\n",
      "       [ 0.        ,  0.        ,  3.31818182, -6.77272727],\n",
      "       [ 0.        ,  0.        ,  0.        , -3.53424658]])\n"
     ]
    }
   ],
   "source": [
    "pprint.pprint(U)"
   ]
  },
  {
   "cell_type": "markdown",
   "metadata": {},
   "source": [
    "A felbontását elvégzését máshogyan is megvalósíthatjuk.\n",
    "\n",
    "Ellenőrzésképpen végezzük el az általunk kiszámolt 2x2-es mátrix LU felbontását!\n"
   ]
  },
  {
   "cell_type": "code",
   "execution_count": 52,
   "metadata": {},
   "outputs": [
    {
     "name": "stdout",
     "output_type": "stream",
     "text": [
      "array([[4, 3],\n",
      "       [6, 3]])\n"
     ]
    }
   ],
   "source": [
    "B = scipy.array([ [4, 3], [6, 3]])\n",
    "pprint.pprint(B)"
   ]
  },
  {
   "cell_type": "code",
   "execution_count": 53,
   "metadata": {},
   "outputs": [
    {
     "name": "stdout",
     "output_type": "stream",
     "text": [
      "array([[1.        , 0.        ],\n",
      "       [0.66666667, 1.        ]])\n"
     ]
    }
   ],
   "source": [
    "P, L, U = scipy.linalg.lu(B)\n",
    "pprint.pprint(L)\n"
   ]
  },
  {
   "cell_type": "code",
   "execution_count": 54,
   "metadata": {},
   "outputs": [
    {
     "name": "stdout",
     "output_type": "stream",
     "text": [
      "array([[6., 3.],\n",
      "       [0., 1.]])\n"
     ]
    }
   ],
   "source": [
    "pprint.pprint(U)"
   ]
  },
  {
   "cell_type": "markdown",
   "metadata": {},
   "source": [
    "Láthatjuk hogy a pivotizálás mdószerével kapott LU felbontás:\n",
    "\\begin{gather}\n",
    " \\begin{pmatrix}\n",
    "  1 & 0  \\\\\n",
    "  0.66666667 & 1 \\\\\n",
    " \\end{pmatrix}\n",
    " \\begin{pmatrix}\n",
    "  6 & 3  \\\\\n",
    "  0 & 0 \\\\\n",
    " \\end{pmatrix}\n",
    " =\n",
    "  \\begin{pmatrix}\n",
    "  6 & 3  \\\\\n",
    "  4 & 3 \\\\\n",
    " \\end{pmatrix}\n",
    " \\end{gather}\n",
    " \n",
    " valóban az erdeti mátrix egy permutáló mátrixszal vett szoraztát adja vissza, vagyis:\n",
    " \n",
    " $$PA=LU$$"
   ]
  },
  {
   "cell_type": "markdown",
   "metadata": {},
   "source": [
    "Egy másik módszer:"
   ]
  },
  {
   "cell_type": "code",
   "execution_count": 55,
   "metadata": {},
   "outputs": [
    {
     "data": {
      "text/latex": [
       "$$\\left[\\begin{matrix}4 & 3\\\\6 & 3\\end{matrix}\\right]$$"
      ],
      "text/plain": [
       "⎡4  3⎤\n",
       "⎢    ⎥\n",
       "⎣6  3⎦"
      ]
     },
     "execution_count": 55,
     "metadata": {},
     "output_type": "execute_result"
    }
   ],
   "source": [
    "from sympy import Matrix\n",
    "\n",
    "A=Matrix([[4,3],[6,3]])\n",
    "A"
   ]
  },
  {
   "cell_type": "code",
   "execution_count": 56,
   "metadata": {},
   "outputs": [
    {
     "data": {
      "text/latex": [
       "$$\\left[\\begin{matrix}4 & 3\\\\6 & 3\\end{matrix}\\right]$$"
      ],
      "text/plain": [
       "⎡4  3⎤\n",
       "⎢    ⎥\n",
       "⎣6  3⎦"
      ]
     },
     "execution_count": 56,
     "metadata": {},
     "output_type": "execute_result"
    }
   ],
   "source": [
    "from sympy import init_printing\n",
    "init_printing()\n",
    "A"
   ]
  },
  {
   "cell_type": "code",
   "execution_count": 59,
   "metadata": {},
   "outputs": [],
   "source": [
    "L, U, _ = A.LUdecomposition()"
   ]
  },
  {
   "cell_type": "code",
   "execution_count": 60,
   "metadata": {},
   "outputs": [
    {
     "data": {
      "text/latex": [
       "$$\\left[\\begin{matrix}1 & 0\\\\\\frac{3}{2} & 1\\end{matrix}\\right]$$"
      ],
      "text/plain": [
       "⎡ 1   0⎤\n",
       "⎢      ⎥\n",
       "⎣3/2  1⎦"
      ]
     },
     "execution_count": 60,
     "metadata": {},
     "output_type": "execute_result"
    }
   ],
   "source": [
    "L"
   ]
  },
  {
   "cell_type": "code",
   "execution_count": 58,
   "metadata": {},
   "outputs": [
    {
     "data": {
      "text/latex": [
       "$$\\left[\\begin{matrix}4 & 3\\\\0 & - \\frac{3}{2}\\end{matrix}\\right]$$"
      ],
      "text/plain": [
       "⎡4   3  ⎤\n",
       "⎢       ⎥\n",
       "⎣0  -3/2⎦"
      ]
     },
     "execution_count": 58,
     "metadata": {},
     "output_type": "execute_result"
    }
   ],
   "source": [
    "U"
   ]
  },
  {
   "cell_type": "markdown",
   "metadata": {},
   "source": [
    " \\begin{gather}\n",
    "  \\begin{pmatrix}\n",
    "  4 & 3  \\\\\n",
    "  6 & 3 \\\\\n",
    " \\end{pmatrix}\n",
    " =\n",
    " \\begin{pmatrix}\n",
    "  1 & 0  \\\\\n",
    "  1.5 & 1 \\\\\n",
    " \\end{pmatrix}\n",
    " \\begin{pmatrix}\n",
    "  4 & 3  \\\\\n",
    "  0 & -1.5 \\\\\n",
    " \\end{pmatrix}\n",
    " \\end{gather}"
   ]
  },
  {
   "cell_type": "markdown",
   "metadata": {},
   "source": [
    "Láthatjuk, hogy ezen második módszer visszaadta a lináris egyenletrendszer megoldásával kapott LU felbontást."
   ]
  },
  {
   "cell_type": "code",
   "execution_count": null,
   "metadata": {},
   "outputs": [],
   "source": []
  }
 ],
 "metadata": {
  "kernelspec": {
   "display_name": "Python 3",
   "language": "python",
   "name": "python3"
  },
  "language_info": {
   "codemirror_mode": {
    "name": "ipython",
    "version": 3
   },
   "file_extension": ".py",
   "mimetype": "text/x-python",
   "name": "python",
   "nbconvert_exporter": "python",
   "pygments_lexer": "ipython3",
   "version": "3.6.4"
  }
 },
 "nbformat": 4,
 "nbformat_minor": 2
}
